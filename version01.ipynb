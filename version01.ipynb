{
 "cells": [
  {
   "cell_type": "code",
   "execution_count": 17,
   "metadata": {},
   "outputs": [],
   "source": [
    "import numpy as np\n",
    "import pandas as pd\n",
    "from sklearn import *\n",
    "import xgboost as xgb\n",
    "import lightgbm as lgb\n",
    "from multiprocessing import *\n",
    "from sklearn import grid_search\n",
    "from xgboost import XGBClassifier\n",
    "from sklearn.metrics import mean_squared_error"
   ]
  },
  {
   "cell_type": "code",
   "execution_count": 79,
   "metadata": {},
   "outputs": [],
   "source": [
    "def transform_df(df):\n",
    "    df = pd.DataFrame(df)\n",
    "    dcols = [c for c in df.columns if c not in  ['id',\"血糖\"]]\n",
    "    df['negative_one_vals'] = np.sum((df[dcols] == -1).values, axis = 1)\n",
    "    df['体检日期'] = (pd.to_datetime(df['体检日期']) - pd.to_datetime(\"2017-10-09\")).dt.days\n",
    "    for c in df.columns:\n",
    "        if c not in ['id','年龄','血糖']:\n",
    "            df['年龄 * ' + str(c)] = df['年龄'] * df[c]  \n",
    "    return df"
   ]
  },
  {
   "cell_type": "code",
   "execution_count": 4,
   "metadata": {},
   "outputs": [],
   "source": [
    "def multi_transform(df):\n",
    "    print(\"Init　Shape: \", df.shape)\n",
    "    p = Pool(cpu_count())\n",
    "    df = p.map(transform_df, np.array_split(df, cpu_count()))\n",
    "    df = pd.concat(df, axis=0, ignore_index=True).reset_index(drop=True)\n",
    "    p.close()\n",
    "    p.join()\n",
    "    print(\"After Shape: \", df.shape)\n",
    "    return df"
   ]
  },
  {
   "cell_type": "code",
   "execution_count": 80,
   "metadata": {},
   "outputs": [
    {
     "name": "stdout",
     "output_type": "stream",
     "text": [
      "40\n"
     ]
    }
   ],
   "source": [
    "train = pd.read_csv(\"data/d_train_20180102.csv\",encoding='gbk')\n",
    "test = pd.read_csv(\"data/d_test_A_20180102.csv\", encoding='gbk')\n",
    "cols = [c for c in train.columns if c not in ['id',\"血糖\"]]\n",
    "train['性别'] = 1 * (train['性别'] == \"男\")\n",
    "test['性别'] = 1 * (test['性别'] == \"男\")\n",
    "print(len(cols))\n",
    "### ---------------------\n",
    "d_median = train.median(axis=0)\n",
    "d_mean = train.mean(axis=0)\n",
    "train = train.fillna(-1)\n",
    "one_hot = {c : list(train[c].unique()) for c in train.columns if c not in  ['id',\"血糖\"]}"
   ]
  },
  {
   "cell_type": "code",
   "execution_count": 81,
   "metadata": {},
   "outputs": [],
   "source": [
    "params = {'eta': 0.2, 'max_depth': 4, 'subsample': 0.9, 'colsample_bytree': 0.9, 'objective': 'reg:gamma', 'eval_metric': 'rmse', 'seed': 99, 'silent': True}"
   ]
  },
  {
   "cell_type": "code",
   "execution_count": 82,
   "metadata": {},
   "outputs": [],
   "source": [
    "col = [c for c in train.columns if c not in ['id','血糖']]"
   ]
  },
  {
   "cell_type": "code",
   "execution_count": 83,
   "metadata": {},
   "outputs": [
    {
     "name": "stdout",
     "output_type": "stream",
     "text": [
      "Init　Shape:  (4231, 40)\n",
      "After Shape:  (4231, 81)\n",
      "Init　Shape:  (1411, 40)\n",
      "After Shape:  (1411, 81)\n",
      "Init　Shape:  (1000, 41)\n",
      "After Shape:  (1000, 82)\n"
     ]
    }
   ],
   "source": [
    "x1, x2, y1, y2 = model_selection.train_test_split(train[col], train['血糖'],test_size = 0.25, random_state = 99)\n",
    "x1 = multi_transform(x1)\n",
    "x2 = multi_transform(x2)\n",
    "test = multi_transform(test)"
   ]
  },
  {
   "cell_type": "code",
   "execution_count": 84,
   "metadata": {},
   "outputs": [],
   "source": [
    "def feval_xgb(pred, y):\n",
    "    y = y.get_label()\n",
    "    score = mean_squared_error(y, pred) * 0.5 * -1\n",
    "    return  \"feval\", score"
   ]
  },
  {
   "cell_type": "code",
   "execution_count": 85,
   "metadata": {},
   "outputs": [],
   "source": [
    "cols = [c for c in x1.columns if c not in ['id',\"血糖\"]]"
   ]
  },
  {
   "cell_type": "code",
   "execution_count": 86,
   "metadata": {},
   "outputs": [
    {
     "name": "stdout",
     "output_type": "stream",
     "text": [
      "[0]\ttrain-feval:-13.9944\tvalid-feval:-13.4309\n",
      "Multiple eval metrics have been passed: 'valid-feval' will be used for early stopping.\n",
      "\n",
      "Will train until valid-feval hasn't improved in 200 rounds.\n",
      "[100]\ttrain-feval:-0.334421\tvalid-feval:-0.801508\n",
      "[200]\ttrain-feval:-0.150517\tvalid-feval:-0.805892\n",
      "Stopping. Best iteration:\n",
      "[37]\ttrain-feval:-0.637869\tvalid-feval:-0.776545\n",
      "\n"
     ]
    }
   ],
   "source": [
    "watchlist= [(xgb.DMatrix(x1, y1), 'train'), (xgb.DMatrix(x2, y2),'valid')]\n",
    "model = xgb.train(params, xgb.DMatrix(x1, y1), 5000, watchlist,feval= feval_xgb,\n",
    "                 maximize=True,verbose_eval=100, early_stopping_rounds = 200)\n",
    "test['target'] = model.predict(xgb.DMatrix(test[cols]), ntree_limit=model.best_ntree_limit+45)"
   ]
  },
  {
   "cell_type": "code",
   "execution_count": 87,
   "metadata": {},
   "outputs": [
    {
     "data": {
      "text/plain": [
       "[('年龄 * 体检日期', 87),\n",
       " ('白细胞计数', 85),\n",
       " ('年龄 * 白细胞计数', 77),\n",
       " ('体检日期', 74),\n",
       " ('*天门冬氨酸氨基转换酶', 74),\n",
       " ('红细胞平均血红蛋白浓度', 72),\n",
       " ('红细胞计数', 70),\n",
       " ('年龄 * 甘油三酯', 70),\n",
       " ('*总蛋白', 67),\n",
       " ('*r-谷氨酰基转换酶', 66),\n",
       " ('红细胞体积分布宽度', 65),\n",
       " ('年龄 * 单核细胞%', 63),\n",
       " ('尿素', 63),\n",
       " ('年龄 * 嗜碱细胞%', 61),\n",
       " ('尿酸', 60),\n",
       " ('*碱性磷酸酶', 59),\n",
       " ('*丙氨酸氨基转换酶', 58),\n",
       " ('年龄 * 中性粒细胞%', 58),\n",
       " ('红细胞平均体积', 57),\n",
       " ('单核细胞%', 57),\n",
       " ('年龄 * 嗜酸细胞%', 54),\n",
       " ('血小板平均体积', 54),\n",
       " ('年龄', 52),\n",
       " ('淋巴细胞%', 51),\n",
       " ('红细胞压积', 48),\n",
       " ('年龄 * 血小板计数', 47),\n",
       " ('肌酐', 46),\n",
       " ('白蛋白', 46),\n",
       " ('血小板体积分布宽度', 45),\n",
       " ('血红蛋白', 45),\n",
       " ('年龄 * *丙氨酸氨基转换酶', 44),\n",
       " ('年龄 * 血小板体积分布宽度', 43),\n",
       " ('总胆固醇', 43),\n",
       " ('嗜酸细胞%', 41),\n",
       " ('年龄 * 尿素', 41),\n",
       " ('年龄 * 血小板比积', 41),\n",
       " ('年龄 * *r-谷氨酰基转换酶', 40),\n",
       " ('年龄 * *天门冬氨酸氨基转换酶', 39),\n",
       " ('中性粒细胞%', 38),\n",
       " ('年龄 * 红细胞计数', 38),\n",
       " ('低密度脂蛋白胆固醇', 38),\n",
       " ('年龄 * 血红蛋白', 38),\n",
       " ('甘油三酯', 37),\n",
       " ('*球蛋白', 36),\n",
       " ('白球比例', 35),\n",
       " ('红细胞平均血红蛋白量', 35),\n",
       " ('年龄 * 性别', 35),\n",
       " ('年龄 * *碱性磷酸酶', 35),\n",
       " ('年龄 * 血小板平均体积', 34),\n",
       " ('高密度脂蛋白胆固醇', 34),\n",
       " ('血小板计数', 33),\n",
       " ('年龄 * 肌酐', 33),\n",
       " ('年龄 * 淋巴细胞%', 32),\n",
       " ('年龄 * 高密度脂蛋白胆固醇', 32),\n",
       " ('年龄 * 低密度脂蛋白胆固醇', 30),\n",
       " ('年龄 * 尿酸', 30),\n",
       " ('血小板比积', 30),\n",
       " ('年龄 * negative_one_vals', 27),\n",
       " ('嗜碱细胞%', 26),\n",
       " ('年龄 * 红细胞平均血红蛋白量', 25),\n",
       " ('年龄 * 红细胞体积分布宽度', 25),\n",
       " ('年龄 * 白球比例', 25),\n",
       " ('年龄 * 红细胞平均血红蛋白浓度', 24),\n",
       " ('年龄 * 白蛋白', 20),\n",
       " ('年龄 * 红细胞平均体积', 20),\n",
       " ('年龄 * 总胆固醇', 19),\n",
       " ('年龄 * 红细胞压积', 18),\n",
       " ('年龄 * 乙肝表面抗原', 18),\n",
       " ('年龄 * *总蛋白', 16),\n",
       " ('性别', 15),\n",
       " ('乙肝表面抗体', 15),\n",
       " ('年龄 * *球蛋白', 14),\n",
       " ('乙肝核心抗体', 13),\n",
       " ('年龄 * 乙肝表面抗体', 12),\n",
       " ('年龄 * 乙肝核心抗体', 11),\n",
       " ('乙肝e抗体', 9),\n",
       " ('乙肝表面抗原', 9),\n",
       " ('年龄 * 乙肝e抗体', 5),\n",
       " ('年龄 * 乙肝e抗原', 4),\n",
       " ('乙肝e抗原', 3)]"
      ]
     },
     "execution_count": 87,
     "metadata": {},
     "output_type": "execute_result"
    }
   ],
   "source": [
    "sorted(model.get_fscore().items(), key=lambda value: value[1], reverse=True)"
   ]
  },
  {
   "cell_type": "code",
   "execution_count": null,
   "metadata": {},
   "outputs": [],
   "source": []
  }
 ],
 "metadata": {
  "kernelspec": {
   "display_name": "Python 3",
   "language": "python",
   "name": "python3"
  },
  "language_info": {
   "codemirror_mode": {
    "name": "ipython",
    "version": 3
   },
   "file_extension": ".py",
   "mimetype": "text/x-python",
   "name": "python",
   "nbconvert_exporter": "python",
   "pygments_lexer": "ipython3",
   "version": "3.5.4"
  }
 },
 "nbformat": 4,
 "nbformat_minor": 2
}
